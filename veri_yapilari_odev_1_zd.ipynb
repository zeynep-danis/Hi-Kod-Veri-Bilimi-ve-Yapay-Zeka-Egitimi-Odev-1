{
 "cells": [
  {
   "cell_type": "markdown",
   "id": "032d81b2",
   "metadata": {},
   "source": [
    "# 1\n",
    "x = 3 ----> floata çevirelim. Çevirdikten sonra beri tipinide yazdıralım.\n",
    "\n",
    "y = 4.5 -----> integere çevirelim. Çevirdikten sonra beri tipinide yazdıralım.\n",
    "\n",
    "z = \"8\" -----> integera çevirelim. Çevirdikten sonra beri tipinide yazdıralım.\n",
    "\n",
    "a = \"12\" -----> floata çevirelim. Çevirdikten sonra beri tipinide yazdıralım.\n",
    "\n",
    "b = \"46.8\" ------> integera çevirelim. Çevirdikten sonra beri tipinide yazdıralım."
   ]
  },
  {
   "cell_type": "code",
   "execution_count": 11,
   "id": "3ec57ba2-174d-4a30-a0e8-54f4250a2dfb",
   "metadata": {},
   "outputs": [
    {
     "data": {
      "text/plain": [
       "3.0"
      ]
     },
     "execution_count": 11,
     "metadata": {},
     "output_type": "execute_result"
    }
   ],
   "source": [
    "x=3\n",
    "float(x)"
   ]
  },
  {
   "cell_type": "code",
   "execution_count": 13,
   "id": "fd441cb8-b2ae-4af5-9a84-d1e236215d91",
   "metadata": {},
   "outputs": [
    {
     "data": {
      "text/plain": [
       "float"
      ]
     },
     "execution_count": 13,
     "metadata": {},
     "output_type": "execute_result"
    }
   ],
   "source": [
    "type(3.0)"
   ]
  },
  {
   "cell_type": "code",
   "execution_count": 15,
   "id": "0fc4dc32-85b1-4993-95d3-e28ddb7a92a1",
   "metadata": {},
   "outputs": [
    {
     "data": {
      "text/plain": [
       "4"
      ]
     },
     "execution_count": 15,
     "metadata": {},
     "output_type": "execute_result"
    }
   ],
   "source": [
    "y=4.5\n",
    "int(y)"
   ]
  },
  {
   "cell_type": "code",
   "execution_count": 17,
   "id": "91544c1a-d283-4d1b-b655-a60dafb06cce",
   "metadata": {},
   "outputs": [
    {
     "data": {
      "text/plain": [
       "int"
      ]
     },
     "execution_count": 17,
     "metadata": {},
     "output_type": "execute_result"
    }
   ],
   "source": [
    "type(4)"
   ]
  },
  {
   "cell_type": "code",
   "execution_count": 19,
   "id": "4af8a74a-4de3-41ab-888b-35a09bed0459",
   "metadata": {},
   "outputs": [
    {
     "data": {
      "text/plain": [
       "8"
      ]
     },
     "execution_count": 19,
     "metadata": {},
     "output_type": "execute_result"
    }
   ],
   "source": [
    "z= \"8\"\n",
    "int(\"8\")"
   ]
  },
  {
   "cell_type": "code",
   "execution_count": 21,
   "id": "8909e6a2-0b81-4096-a4dc-14a73923f6f7",
   "metadata": {},
   "outputs": [
    {
     "data": {
      "text/plain": [
       "int"
      ]
     },
     "execution_count": 21,
     "metadata": {},
     "output_type": "execute_result"
    }
   ],
   "source": [
    "type(8)"
   ]
  },
  {
   "cell_type": "code",
   "execution_count": 23,
   "id": "2eb13039-0ee9-4b8f-8ac1-23a536adf223",
   "metadata": {},
   "outputs": [
    {
     "data": {
      "text/plain": [
       "12.0"
      ]
     },
     "execution_count": 23,
     "metadata": {},
     "output_type": "execute_result"
    }
   ],
   "source": [
    "a= \"12\"\n",
    "float(a)"
   ]
  },
  {
   "cell_type": "code",
   "execution_count": 25,
   "id": "261c7c6d-6ce0-4582-8832-8627aee61938",
   "metadata": {},
   "outputs": [
    {
     "data": {
      "text/plain": [
       "float"
      ]
     },
     "execution_count": 25,
     "metadata": {},
     "output_type": "execute_result"
    }
   ],
   "source": [
    "type(12.0)"
   ]
  },
  {
   "cell_type": "code",
   "execution_count": 31,
   "id": "8e001626-5df5-48aa-a1f3-3b8a80a22f83",
   "metadata": {},
   "outputs": [
    {
     "data": {
      "text/plain": [
       "46.8"
      ]
     },
     "execution_count": 31,
     "metadata": {},
     "output_type": "execute_result"
    }
   ],
   "source": [
    "b= \"46.8\"\n",
    "float(b)"
   ]
  },
  {
   "cell_type": "code",
   "execution_count": 33,
   "id": "30be0ae0-0e0c-4ae6-95c5-903d9cae3c1a",
   "metadata": {},
   "outputs": [
    {
     "data": {
      "text/plain": [
       "46"
      ]
     },
     "execution_count": 33,
     "metadata": {},
     "output_type": "execute_result"
    }
   ],
   "source": [
    "int(46.8)"
   ]
  },
  {
   "cell_type": "code",
   "execution_count": 35,
   "id": "97bb075a-7884-4ae8-b04f-c749a15a4552",
   "metadata": {},
   "outputs": [
    {
     "data": {
      "text/plain": [
       "int"
      ]
     },
     "execution_count": 35,
     "metadata": {},
     "output_type": "execute_result"
    }
   ],
   "source": [
    "type(46)"
   ]
  },
  {
   "cell_type": "markdown",
   "id": "95509718",
   "metadata": {},
   "source": [
    "# 2 \n",
    "İsimlerden oluşan üç değişkene yaş değerleri atanır. Belirlenen üç değişken birbiriyle karşılaştırma operatörleri ile karşılaştırılır. Bu karşılaştırmalara mantıksal operatörler de eklenir."
   ]
  },
  {
   "cell_type": "code",
   "execution_count": 45,
   "id": "50f77b4f",
   "metadata": {},
   "outputs": [
    {
     "data": {
      "text/plain": [
       "True"
      ]
     },
     "execution_count": 45,
     "metadata": {},
     "output_type": "execute_result"
    }
   ],
   "source": [
    "Doğa=13\n",
    "Gizem=17\n",
    "Yağmur=24\n",
    "\n",
    "Doğa < Gizem"
   ]
  },
  {
   "cell_type": "code",
   "execution_count": 47,
   "id": "08ad15bd-a14e-4d98-8abb-94f45dacf7fe",
   "metadata": {},
   "outputs": [
    {
     "data": {
      "text/plain": [
       "True"
      ]
     },
     "execution_count": 47,
     "metadata": {},
     "output_type": "execute_result"
    }
   ],
   "source": [
    "Yağmur > Doğa"
   ]
  },
  {
   "cell_type": "code",
   "execution_count": 51,
   "id": "a4759431-bdb5-4870-9d20-7561cecf22e5",
   "metadata": {},
   "outputs": [
    {
     "data": {
      "text/plain": [
       "True"
      ]
     },
     "execution_count": 51,
     "metadata": {},
     "output_type": "execute_result"
    }
   ],
   "source": [
    "Gizem != Yağmur"
   ]
  },
  {
   "cell_type": "code",
   "execution_count": 53,
   "id": "0d135f28-83ac-4e87-980d-d699cce8f4b8",
   "metadata": {},
   "outputs": [
    {
     "data": {
      "text/plain": [
       "False"
      ]
     },
     "execution_count": 53,
     "metadata": {},
     "output_type": "execute_result"
    }
   ],
   "source": [
    "Doğa < 11"
   ]
  },
  {
   "cell_type": "code",
   "execution_count": 55,
   "id": "34d151be-a591-4519-aed7-74d06c686f15",
   "metadata": {},
   "outputs": [
    {
     "data": {
      "text/plain": [
       "True"
      ]
     },
     "execution_count": 55,
     "metadata": {},
     "output_type": "execute_result"
    }
   ],
   "source": [
    "Doğa >= 13"
   ]
  },
  {
   "cell_type": "code",
   "execution_count": 57,
   "id": "ed94eae6-b1f5-4f93-bcb3-d00f91fb8632",
   "metadata": {},
   "outputs": [
    {
     "data": {
      "text/plain": [
       "True"
      ]
     },
     "execution_count": 57,
     "metadata": {},
     "output_type": "execute_result"
    }
   ],
   "source": [
    "Gizem == 17"
   ]
  },
  {
   "cell_type": "code",
   "execution_count": 59,
   "id": "2cb50b2d-6b8a-4c50-aba3-fbec99483340",
   "metadata": {},
   "outputs": [
    {
     "data": {
      "text/plain": [
       "True"
      ]
     },
     "execution_count": 59,
     "metadata": {},
     "output_type": "execute_result"
    }
   ],
   "source": [
    "Gizem + Doğa > 28"
   ]
  },
  {
   "cell_type": "code",
   "execution_count": 61,
   "id": "850f2c2e-37fc-4af3-98c5-ef9e1015e115",
   "metadata": {},
   "outputs": [
    {
     "data": {
      "text/plain": [
       "True"
      ]
     },
     "execution_count": 61,
     "metadata": {},
     "output_type": "execute_result"
    }
   ],
   "source": [
    "19 < Yağmur < 30"
   ]
  },
  {
   "cell_type": "code",
   "execution_count": 63,
   "id": "86ebb8d0-f461-4146-886b-faad2e180ec0",
   "metadata": {},
   "outputs": [
    {
     "data": {
      "text/plain": [
       "False"
      ]
     },
     "execution_count": 63,
     "metadata": {},
     "output_type": "execute_result"
    }
   ],
   "source": [
    "13 < Gizem < 16"
   ]
  },
  {
   "cell_type": "code",
   "execution_count": 65,
   "id": "8a1090fd-d8db-42bb-bd20-65241a43a79f",
   "metadata": {},
   "outputs": [
    {
     "data": {
      "text/plain": [
       "True"
      ]
     },
     "execution_count": 65,
     "metadata": {},
     "output_type": "execute_result"
    }
   ],
   "source": [
    "15 > Doğa or Doğa < 21"
   ]
  },
  {
   "cell_type": "code",
   "execution_count": 69,
   "id": "3fd9cc8e-6b06-4550-8ede-9b067fbbc51b",
   "metadata": {},
   "outputs": [
    {
     "data": {
      "text/plain": [
       "False"
      ]
     },
     "execution_count": 69,
     "metadata": {},
     "output_type": "execute_result"
    }
   ],
   "source": [
    "Gizem > 19 or Yağmur < 20"
   ]
  },
  {
   "cell_type": "code",
   "execution_count": 71,
   "id": "9640aaf5-1ad3-4a28-88eb-f58c00bbdefe",
   "metadata": {},
   "outputs": [
    {
     "data": {
      "text/plain": [
       "True"
      ]
     },
     "execution_count": 71,
     "metadata": {},
     "output_type": "execute_result"
    }
   ],
   "source": [
    "Gizem > Doğa and Doğa < Yağmur"
   ]
  },
  {
   "cell_type": "markdown",
   "id": "a1a0eb92",
   "metadata": {},
   "source": [
    "# 3\n",
    "Kullanıcıdan iki değer girmesini istenir. Girilen değerlerin toplama, çıkarma, çarpma, bölme sonuçlarını yazdırılır."
   ]
  },
  {
   "cell_type": "code",
   "execution_count": 73,
   "id": "c361e45a",
   "metadata": {},
   "outputs": [],
   "source": [
    "y=42\n",
    "z=6"
   ]
  },
  {
   "cell_type": "code",
   "execution_count": 75,
   "id": "0f567d93-ea30-453a-b787-b60ab69878e5",
   "metadata": {},
   "outputs": [
    {
     "data": {
      "text/plain": [
       "48"
      ]
     },
     "execution_count": 75,
     "metadata": {},
     "output_type": "execute_result"
    }
   ],
   "source": [
    "y+z"
   ]
  },
  {
   "cell_type": "code",
   "execution_count": 77,
   "id": "d864f770-cba9-4918-89f9-193bef11e399",
   "metadata": {},
   "outputs": [
    {
     "data": {
      "text/plain": [
       "36"
      ]
     },
     "execution_count": 77,
     "metadata": {},
     "output_type": "execute_result"
    }
   ],
   "source": [
    "y-z"
   ]
  },
  {
   "cell_type": "code",
   "execution_count": 79,
   "id": "071497a9-30fc-4bcd-86c1-6ca12004a75f",
   "metadata": {},
   "outputs": [
    {
     "data": {
      "text/plain": [
       "7.0"
      ]
     },
     "execution_count": 79,
     "metadata": {},
     "output_type": "execute_result"
    }
   ],
   "source": [
    "y/z"
   ]
  },
  {
   "cell_type": "code",
   "execution_count": 81,
   "id": "71f1a7f4-305a-408c-aa0a-9707ce081421",
   "metadata": {},
   "outputs": [
    {
     "data": {
      "text/plain": [
       "7"
      ]
     },
     "execution_count": 81,
     "metadata": {},
     "output_type": "execute_result"
    }
   ],
   "source": [
    "int(y/z)"
   ]
  },
  {
   "cell_type": "code",
   "execution_count": 83,
   "id": "70dfc0bf-2f71-4044-93aa-3affd73acd8e",
   "metadata": {},
   "outputs": [
    {
     "data": {
      "text/plain": [
       "252"
      ]
     },
     "execution_count": 83,
     "metadata": {},
     "output_type": "execute_result"
    }
   ],
   "source": [
    "y*z"
   ]
  },
  {
   "cell_type": "code",
   "execution_count": 85,
   "id": "f1c4ec51-9333-4abe-bcaf-64913fbdad04",
   "metadata": {},
   "outputs": [
    {
     "data": {
      "text/plain": [
       "-36"
      ]
     },
     "execution_count": 85,
     "metadata": {},
     "output_type": "execute_result"
    }
   ],
   "source": [
    "z-y"
   ]
  },
  {
   "cell_type": "code",
   "execution_count": 87,
   "id": "67d9a6e4-a2f4-4b71-a8c5-d9e974510130",
   "metadata": {},
   "outputs": [
    {
     "data": {
      "text/plain": [
       "0.14285714285714285"
      ]
     },
     "execution_count": 87,
     "metadata": {},
     "output_type": "execute_result"
    }
   ],
   "source": [
    "z/y"
   ]
  },
  {
   "cell_type": "code",
   "execution_count": 89,
   "id": "34dcdf19-5d20-4c18-b702-adefec54261d",
   "metadata": {},
   "outputs": [
    {
     "data": {
      "text/plain": [
       "0"
      ]
     },
     "execution_count": 89,
     "metadata": {},
     "output_type": "execute_result"
    }
   ],
   "source": [
    "int(z/y)"
   ]
  },
  {
   "cell_type": "markdown",
   "id": "060b0bea",
   "metadata": {},
   "source": [
    "# 4\n",
    "Kullanıcıdan isim, yaş, şehir ve meslek bilgilerini istenir ve cevaplarını yazdırılır."
   ]
  },
  {
   "cell_type": "code",
   "execution_count": 91,
   "id": "6f5dea59",
   "metadata": {},
   "outputs": [
    {
     "name": "stdin",
     "output_type": "stream",
     "text": [
      "Adınız: Zeynep\n"
     ]
    }
   ],
   "source": [
    "isim = input(\"Adınız:\")"
   ]
  },
  {
   "cell_type": "code",
   "execution_count": 93,
   "id": "4b8c2414-3fe5-4fe1-89ec-7d751e8b49b3",
   "metadata": {},
   "outputs": [
    {
     "name": "stdin",
     "output_type": "stream",
     "text": [
      "Yaşınız: 24\n"
     ]
    }
   ],
   "source": [
    "yaş = input(\"Yaşınız:\")"
   ]
  },
  {
   "cell_type": "code",
   "execution_count": 97,
   "id": "35effb66-7166-4ecc-a5f6-7f72c6494ee3",
   "metadata": {},
   "outputs": [
    {
     "name": "stdin",
     "output_type": "stream",
     "text": [
      "Yaşadığınız Şehir: Sivas\n"
     ]
    }
   ],
   "source": [
    "şehir = input(\"Yaşadığınız Şehir:\")"
   ]
  },
  {
   "cell_type": "code",
   "execution_count": 95,
   "id": "21659cdf-d102-4398-9d71-50cef0283c49",
   "metadata": {},
   "outputs": [
    {
     "name": "stdin",
     "output_type": "stream",
     "text": [
      "Mesleğiniz: Ziraat Mühendisi\n"
     ]
    }
   ],
   "source": [
    "meslek = input(\"Mesleğiniz:\")"
   ]
  },
  {
   "cell_type": "markdown",
   "id": "55e1a34e",
   "metadata": {},
   "source": [
    "# 5\n",
    "\"Hi-Kod Veri Bilimi Atölyesi\" ifadesini bir değişkene tanımlanır.\n",
    "\n",
    "\n",
    " 1. İfadedeki her bir kelimeyi (\"Hi-Kod\", \"Veri\", \"Bilimi\", \"Atölyesi\") değişken içinden seçilir. \n",
    " 2. İfadeyi hepsini büyük harf olacak hale çevrilir. (\"HI-KOD VERİ BİLİMİ ATÖLYESİ\") \n",
    " 3. İfadeyi hepsini büyük harf olacak hale çevrilir.(\"hi-kod veri bilimi atölyesi\") \n",
    "\n",
    "\"0123456789\" ifadesindeki yalnızca çift sayıları ve yalnızca tek sayıları seçilir. (\"02468\", \"13579\")"
   ]
  },
  {
   "cell_type": "code",
   "execution_count": 2,
   "id": "0fc1bc40",
   "metadata": {},
   "outputs": [],
   "source": [
    "atolye = \"Hi-Kod Veri Bilimi Atölyesi\""
   ]
  },
  {
   "cell_type": "code",
   "execution_count": 60,
   "id": "b1ac6b6c-a555-4580-8f77-e926ae15e7b7",
   "metadata": {},
   "outputs": [
    {
     "data": {
      "text/plain": [
       "'Hi-Kod'"
      ]
     },
     "execution_count": 60,
     "metadata": {},
     "output_type": "execute_result"
    }
   ],
   "source": [
    "atolye[0:6]"
   ]
  },
  {
   "cell_type": "code",
   "execution_count": 50,
   "id": "d5f8afe1-c054-4e1c-bf0a-028952fe7c9c",
   "metadata": {},
   "outputs": [
    {
     "data": {
      "text/plain": [
       "'Veri'"
      ]
     },
     "execution_count": 50,
     "metadata": {},
     "output_type": "execute_result"
    }
   ],
   "source": [
    "atolye[7:11]"
   ]
  },
  {
   "cell_type": "code",
   "execution_count": 54,
   "id": "cf950dc8-ab1a-4a21-9d3d-543cd5717dcd",
   "metadata": {},
   "outputs": [
    {
     "data": {
      "text/plain": [
       "'Bilimi'"
      ]
     },
     "execution_count": 54,
     "metadata": {},
     "output_type": "execute_result"
    }
   ],
   "source": [
    "atolye[12:18]"
   ]
  },
  {
   "cell_type": "code",
   "execution_count": 56,
   "id": "31cc79d6-f025-47e4-9c09-cfc8cb33f81b",
   "metadata": {},
   "outputs": [
    {
     "data": {
      "text/plain": [
       "'Atölyesi'"
      ]
     },
     "execution_count": 56,
     "metadata": {},
     "output_type": "execute_result"
    }
   ],
   "source": [
    "atolye[19:27]"
   ]
  },
  {
   "cell_type": "code",
   "execution_count": 64,
   "id": "f7d07761-2e5b-41b0-af8a-914926d9c232",
   "metadata": {},
   "outputs": [
    {
     "name": "stdout",
     "output_type": "stream",
     "text": [
      "Hi-Kod\n"
     ]
    }
   ],
   "source": [
    "print(atolye[0:6])"
   ]
  },
  {
   "cell_type": "code",
   "execution_count": 68,
   "id": "4b8bdcb2-a8d0-454d-95da-ee585a667025",
   "metadata": {},
   "outputs": [
    {
     "name": "stdout",
     "output_type": "stream",
     "text": [
      "Veri\n"
     ]
    }
   ],
   "source": [
    "print(atolye[7:11])"
   ]
  },
  {
   "cell_type": "code",
   "execution_count": 70,
   "id": "89c266ed-6925-4fa9-ad4c-3bccbaa5b6eb",
   "metadata": {},
   "outputs": [
    {
     "name": "stdout",
     "output_type": "stream",
     "text": [
      "Bilimi\n"
     ]
    }
   ],
   "source": [
    "print(atolye[12:18])"
   ]
  },
  {
   "cell_type": "code",
   "execution_count": 72,
   "id": "d580b4fc-030f-402b-90b0-d4ae5ddd9e53",
   "metadata": {},
   "outputs": [
    {
     "name": "stdout",
     "output_type": "stream",
     "text": [
      "Atölyesi\n"
     ]
    }
   ],
   "source": [
    "print(atolye[19:27])"
   ]
  },
  {
   "cell_type": "code",
   "execution_count": 78,
   "id": "4117c561-204e-416c-8479-af2c986f01c8",
   "metadata": {},
   "outputs": [
    {
     "data": {
      "text/plain": [
       "'HI-KOD VERI BILIMI ATÖLYESI'"
      ]
     },
     "execution_count": 78,
     "metadata": {},
     "output_type": "execute_result"
    }
   ],
   "source": [
    "atolye.upper()"
   ]
  },
  {
   "cell_type": "code",
   "execution_count": 80,
   "id": "d6741375-deb4-4f3a-8e16-bb5efc8b0afd",
   "metadata": {},
   "outputs": [
    {
     "data": {
      "text/plain": [
       "'hi-kod veri bilimi atölyesi'"
      ]
     },
     "execution_count": 80,
     "metadata": {},
     "output_type": "execute_result"
    }
   ],
   "source": [
    "atolye.lower()"
   ]
  },
  {
   "cell_type": "code",
   "execution_count": 6,
   "id": "82cd85c9-4e35-4528-936f-b55e9580c4e5",
   "metadata": {},
   "outputs": [],
   "source": [
    "sayilar = \"0123456789\""
   ]
  },
  {
   "cell_type": "code",
   "execution_count": 12,
   "id": "606a859f-97a1-43ef-8fed-26c17b9953bd",
   "metadata": {},
   "outputs": [
    {
     "data": {
      "text/plain": [
       "'02468'"
      ]
     },
     "execution_count": 12,
     "metadata": {},
     "output_type": "execute_result"
    }
   ],
   "source": [
    "sayilar[::2]"
   ]
  },
  {
   "cell_type": "code",
   "execution_count": 86,
   "id": "23ba5680-79c7-4f6a-8b7d-1337b3a63ec6",
   "metadata": {},
   "outputs": [
    {
     "data": {
      "text/plain": [
       "'02468'"
      ]
     },
     "execution_count": 86,
     "metadata": {},
     "output_type": "execute_result"
    }
   ],
   "source": [
    "sayilar[0:9:2]"
   ]
  },
  {
   "cell_type": "code",
   "execution_count": 84,
   "id": "b30d8327-d7a2-40d9-b73b-a736c3ba010c",
   "metadata": {},
   "outputs": [
    {
     "data": {
      "text/plain": [
       "'13579'"
      ]
     },
     "execution_count": 84,
     "metadata": {},
     "output_type": "execute_result"
    }
   ],
   "source": [
    "sayilar[1:10:2]"
   ]
  }
 ],
 "metadata": {
  "kernelspec": {
   "display_name": "Python [conda env:base] *",
   "language": "python",
   "name": "conda-base-py"
  },
  "language_info": {
   "codemirror_mode": {
    "name": "ipython",
    "version": 3
   },
   "file_extension": ".py",
   "mimetype": "text/x-python",
   "name": "python",
   "nbconvert_exporter": "python",
   "pygments_lexer": "ipython3",
   "version": "3.12.7"
  }
 },
 "nbformat": 4,
 "nbformat_minor": 5
}
